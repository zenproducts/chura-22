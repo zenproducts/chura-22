{
 "cells": [
  {
   "cell_type": "code",
   "execution_count": 1,
   "id": "6ea1c31e",
   "metadata": {},
   "outputs": [],
   "source": [
    "from fugashi import Tagger"
   ]
  },
  {
   "cell_type": "code",
   "execution_count": 2,
   "id": "b8b56278",
   "metadata": {},
   "outputs": [],
   "source": [
    "from tqdm.notebook import tqdm"
   ]
  },
  {
   "cell_type": "code",
   "execution_count": 3,
   "id": "30f31d85",
   "metadata": {},
   "outputs": [],
   "source": [
    "import itertools\n",
    "import re"
   ]
  },
  {
   "cell_type": "code",
   "execution_count": 4,
   "id": "421893b2",
   "metadata": {},
   "outputs": [],
   "source": [
    "tagger = Tagger()"
   ]
  },
  {
   "cell_type": "code",
   "execution_count": 5,
   "id": "e4eb058a",
   "metadata": {},
   "outputs": [],
   "source": [
    "def ngrams(xs, n=2):\n",
    "    ts = itertools.tee(xs, n)\n",
    "    for i, t in enumerate(ts[1:]):\n",
    "        for _ in range(i + 1):\n",
    "            next(t, None)\n",
    "    return zip(*ts)"
   ]
  },
  {
   "cell_type": "code",
   "execution_count": 6,
   "id": "ab231633",
   "metadata": {},
   "outputs": [],
   "source": [
    "KANJI_WORD = re.compile(\n",
    "    \"[\" +\n",
    "    \"\\u2E80-\\u2FDF\\u3005-\\u3007\\u3400-\\u4DBF\\u4E00-\\u9FFF\\uF900-\\uFAFF\" +\n",
    "    \"\\U00020000-\\U0002EBEF\" +\n",
    "    \"]+\"\n",
    ")\n",
    "\n",
    "\n",
    "def is_target(token):\n",
    "    \"\"\" 同音異義語のチェック対象にする言葉の場合Trueを返す\n",
    "    \n",
    "    * 2文字の言葉\n",
    "    * 漢字を1つ以上含む\n",
    "    * 固有名詞でない\n",
    "    \"\"\"\n",
    "    if token.feature.kana is None:\n",
    "        return False\n",
    "\n",
    "    if token.feature.pos2 == \"固有名詞\":\n",
    "        return False\n",
    "    \n",
    "    if len(token.surface) != 2:\n",
    "        return False\n",
    "    \n",
    "    if KANJI_WORD.search(token.surface) is None:\n",
    "        return False\n",
    "\n",
    "    return True"
   ]
  },
  {
   "cell_type": "code",
   "execution_count": 7,
   "id": "8d4c6312",
   "metadata": {},
   "outputs": [],
   "source": [
    "from collections import defaultdict"
   ]
  },
  {
   "cell_type": "code",
   "execution_count": 8,
   "id": "22ff1e3e",
   "metadata": {},
   "outputs": [
    {
     "data": {
      "application/vnd.jupyter.widget-view+json": {
       "model_id": "01f0f5c7f79f4e9a95fcd83ac7ff4f6e",
       "version_major": 2,
       "version_minor": 0
      },
      "text/plain": [
       "  0%|          | 0/100000 [00:00<?, ?it/s]"
      ]
     },
     "metadata": {},
     "output_type": "display_data"
    }
   ],
   "source": [
    "counter = defaultdict(int)\n",
    "synonyms = defaultdict(set)\n",
    "\n",
    "n = 100_000\n",
    "with open(\"./corpus.txt\") as f:\n",
    "    for sentence in tqdm(f, total=n):\n",
    "\n",
    "        doc = tagger(sentence.strip())\n",
    "        \n",
    "        for a, b in ngrams(doc, n=2):   \n",
    "            counter[(a.surface, b.surface)] += 1\n",
    "            \n",
    "        for t in doc:\n",
    "            if is_target(t):\n",
    "                synonyms[t.feature.kana].add(t.surface)\n",
    "            \n",
    "synonyms = {k: v for k, v in synonyms.items() if len(v) >= 2}"
   ]
  },
  {
   "cell_type": "code",
   "execution_count": 9,
   "id": "8500ab43",
   "metadata": {},
   "outputs": [
    {
     "data": {
      "text/plain": [
       "{'エイガ': {'映画', '栄花', '栄華'},\n",
       " 'ジシン': {'地震', '磁針', '自信', '自身'},\n",
       " 'ハイユウ': {'俳優', '俳友'},\n",
       " 'シュエン': {'主演', '酒宴'},\n",
       " 'ダイガク': {'大学', '大學'},\n",
       " 'ゲンゴ': {'原語', '言語'},\n",
       " 'キョウジュ': {'享受', '教授'},\n",
       " 'コウレイ': {'好例', '恒例', '高齢'},\n",
       " 'ダンセイ': {'弾性', '男声', '男性'},\n",
       " 'ガイトウ': {'街灯', '街頭', '該当'},\n",
       " 'ヒトリ': {'一人', '独り'},\n",
       " 'インタイ': {'引退', '隠退'},\n",
       " 'セイフ': {'世父', '政府'},\n",
       " 'ジブン': {'時分', '自分'},\n",
       " 'オカミ': {'お上', '女将'},\n",
       " 'エンタイ': {'延滞', '掩体'},\n",
       " 'ナス': {'成す', '為す'},\n",
       " 'ケイケン': {'敬虔', '経験'},\n",
       " 'タイセツ': {'体節', '大切'},\n",
       " 'カイシャ': {'会社', '膾炙'}}"
      ]
     },
     "execution_count": 9,
     "metadata": {},
     "output_type": "execute_result"
    }
   ],
   "source": [
    "{k: v for k, v in itertools.islice(synonyms.items(), 20)}"
   ]
  },
  {
   "cell_type": "code",
   "execution_count": 10,
   "id": "da1cf17b",
   "metadata": {},
   "outputs": [
    {
     "data": {
      "text/plain": [
       "{('『', 'ウンベルト'): 1,\n",
       " ('ウンベルト', 'D'): 1,\n",
       " ('D', '』'): 9,\n",
       " ('』', '('): 1073,\n",
       " ('(', 'Umberto'): 1,\n",
       " ('Umberto', 'D'): 1,\n",
       " ('D', '.'): 54,\n",
       " ('.', ')'): 99,\n",
       " (')', 'は'): 3804,\n",
       " ('は', '、'): 13674,\n",
       " ('、', '1952'): 20,\n",
       " ('1952', '年'): 105,\n",
       " ('年', 'の'): 1257,\n",
       " ('の', 'イタリア'): 18,\n",
       " ('イタリア', 'の'): 76,\n",
       " ('の', '映画'): 124,\n",
       " ('映画', '。'): 54,\n",
       " ('監督', 'は'): 24,\n",
       " ('は', 'ヴィットリオ'): 1,\n",
       " ('ヴィットリオ', '・'): 2}"
      ]
     },
     "execution_count": 10,
     "metadata": {},
     "output_type": "execute_result"
    }
   ],
   "source": [
    "{k: v for k, v in itertools.islice(counter.items(), 20)}"
   ]
  },
  {
   "cell_type": "code",
   "execution_count": 11,
   "id": "19ba0881",
   "metadata": {},
   "outputs": [
    {
     "data": {
      "text/plain": [
       "9"
      ]
     },
     "execution_count": 11,
     "metadata": {},
     "output_type": "execute_result"
    }
   ],
   "source": [
    "counter[(\"意外\", \"な\")]"
   ]
  },
  {
   "cell_type": "code",
   "execution_count": 12,
   "id": "ea1c9391",
   "metadata": {},
   "outputs": [],
   "source": [
    "def synonym_recommend(sentence):\n",
    "    for a, b in ngrams(tagger(sentence), n=2):\n",
    "        if is_target(a) and a.feature.kana in synonyms:\n",
    "            \n",
    "            candidates = []\n",
    "            for candidate in synonyms[a.feature.kana]:\n",
    "                count = counter[(candidate, b.surface)]\n",
    "                candidates.append((count, candidate + b.surface))\n",
    "            \n",
    "            print(a.surface, \"→\")\n",
    "            for c, s in sorted(candidates, reverse=True):\n",
    "                print(s, \":\", c)\n",
    "            print()"
   ]
  },
  {
   "cell_type": "markdown",
   "id": "4d34276d",
   "metadata": {},
   "source": [
    "## うまくいく例"
   ]
  },
  {
   "cell_type": "code",
   "execution_count": 13,
   "id": "a29deed0",
   "metadata": {},
   "outputs": [
    {
     "name": "stdout",
     "output_type": "stream",
     "text": [
      "以外 →\n",
      "意外な : 9\n",
      "遺骸な : 0\n",
      "以外な : 0\n",
      "イ貝な : 0\n",
      "\n"
     ]
    }
   ],
   "source": [
    "synonym_recommend(\"これは以外な結末です。\")"
   ]
  },
  {
   "cell_type": "code",
   "execution_count": 14,
   "id": "ef0a2ceb",
   "metadata": {},
   "outputs": [
    {
     "name": "stdout",
     "output_type": "stream",
     "text": [
      "特長 →\n",
      "特徴的 : 42\n",
      "特長的 : 0\n",
      "\n"
     ]
    }
   ],
   "source": [
    "synonym_recommend(\"とても特長的な結果\")"
   ]
  },
  {
   "cell_type": "markdown",
   "id": "c169096f",
   "metadata": {},
   "source": [
    "## うまくいかない例"
   ]
  },
  {
   "cell_type": "code",
   "execution_count": 15,
   "id": "c90685b7",
   "metadata": {},
   "outputs": [
    {
     "name": "stdout",
     "output_type": "stream",
     "text": [
      "飛行 →\n",
      "飛行機 : 33\n",
      "非行機 : 0\n",
      "肥厚機 : 0\n",
      "秘孔機 : 0\n",
      "\n",
      "運航 →\n",
      "運行が : 17\n",
      "運航が : 1\n",
      "\n"
     ]
    }
   ],
   "source": [
    "synonym_recommend(\"飛行機の運航が止まる\")"
   ]
  },
  {
   "cell_type": "code",
   "execution_count": 16,
   "id": "c3fc0e29",
   "metadata": {},
   "outputs": [
    {
     "name": "stdout",
     "output_type": "stream",
     "text": [
      "引く →\n",
      "引くこと : 7\n",
      "弾くこと : 1\n",
      "\n"
     ]
    }
   ],
   "source": [
    "synonym_recommend(\"ピアノを引くことになった\")"
   ]
  },
  {
   "cell_type": "code",
   "execution_count": 17,
   "id": "d93adf13",
   "metadata": {},
   "outputs": [
    {
     "name": "stdout",
     "output_type": "stream",
     "text": [
      "今季 →\n",
      "今期は : 0\n",
      "今季は : 0\n",
      "\n",
      "新色 →\n",
      "侵食が : 2\n",
      "神職が : 0\n",
      "浸食が : 0\n",
      "新色が : 0\n",
      "寝食が : 0\n",
      "\n",
      "登場 →\n",
      "登場し : 591\n",
      "搭乗し : 35\n",
      "東上し : 0\n",
      "塔状し : 0\n",
      "\n"
     ]
    }
   ],
   "source": [
    "synonym_recommend(\"今季は新色が登場した\")"
   ]
  },
  {
   "cell_type": "code",
   "execution_count": 18,
   "id": "330c432f",
   "metadata": {},
   "outputs": [
    {
     "name": "stdout",
     "output_type": "stream",
     "text": [
      "證券 →\n",
      "証券の : 3\n",
      "商圏の : 1\n",
      "證券の : 0\n",
      "\n",
      "担当 →\n",
      "担当者 : 10\n",
      "短刀者 : 0\n",
      "単刀者 : 0\n",
      "\n"
     ]
    }
   ],
   "source": [
    "synonym_recommend(\"野村證券の新しい担当者\")"
   ]
  }
 ],
 "metadata": {
  "kernelspec": {
   "display_name": "Python 3 (ipykernel)",
   "language": "python",
   "name": "python3"
  },
  "language_info": {
   "codemirror_mode": {
    "name": "ipython",
    "version": 3
   },
   "file_extension": ".py",
   "mimetype": "text/x-python",
   "name": "python",
   "nbconvert_exporter": "python",
   "pygments_lexer": "ipython3",
   "version": "3.9.10"
  }
 },
 "nbformat": 4,
 "nbformat_minor": 5
}
