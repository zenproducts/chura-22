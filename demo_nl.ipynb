{
 "cells": [
  {
   "cell_type": "markdown",
   "id": "076999a5",
   "metadata": {},
   "source": [
    "# 自然言語処理で遊んでみる"
   ]
  },
  {
   "cell_type": "markdown",
   "id": "ae42fa34",
   "metadata": {},
   "source": [
    "## 形態素解析\n",
    "\n",
    "まずはfugashiというMeCabのラッパーを使い、形態素解析をしましょう。"
   ]
  },
  {
   "cell_type": "code",
   "execution_count": 1,
   "id": "ddf30692",
   "metadata": {},
   "outputs": [],
   "source": [
    "from fugashi import Tagger\n",
    "tagger = Tagger()"
   ]
  },
  {
   "cell_type": "code",
   "execution_count": 2,
   "id": "6d0ad36a",
   "metadata": {},
   "outputs": [
    {
     "data": {
      "text/plain": [
       "[今日, は, イベント, の, 日, です, 。]"
      ]
     },
     "execution_count": 2,
     "metadata": {},
     "output_type": "execute_result"
    }
   ],
   "source": [
    "doc = tagger(\"今日はイベントの日です。\")\n",
    "doc"
   ]
  },
  {
   "cell_type": "code",
   "execution_count": 3,
   "id": "791df23c",
   "metadata": {},
   "outputs": [
    {
     "data": {
      "text/plain": [
       "今日"
      ]
     },
     "execution_count": 3,
     "metadata": {},
     "output_type": "execute_result"
    }
   ],
   "source": [
    "doc[0]"
   ]
  },
  {
   "cell_type": "code",
   "execution_count": 4,
   "id": "2533d67a",
   "metadata": {},
   "outputs": [
    {
     "data": {
      "text/plain": [
       "UnidicFeatures26(pos1='名詞', pos2='普通名詞', pos3='副詞可能', pos4='*', cType='*', cForm='*', lForm='キョウ', lemma='今日', orth='今日', pron='キョー', orthBase='今日', pronBase='キョー', goshu='和', iType='*', iForm='*', fType='*', fForm='*', kana='キョウ', kanaBase='キョウ', form='キョウ', formBase='キョウ', iConType='*', fConType='*', aType='1', aConType='C3', aModeType='*')"
      ]
     },
     "execution_count": 4,
     "metadata": {},
     "output_type": "execute_result"
    }
   ],
   "source": [
    "doc[0].feature"
   ]
  },
  {
   "cell_type": "code",
   "execution_count": 5,
   "id": "c7e48222",
   "metadata": {},
   "outputs": [
    {
     "data": {
      "text/plain": [
       "'キョウ'"
      ]
     },
     "execution_count": 5,
     "metadata": {},
     "output_type": "execute_result"
    }
   ],
   "source": [
    "doc[0].feature.kana"
   ]
  },
  {
   "cell_type": "code",
   "execution_count": 6,
   "id": "4c447a2a",
   "metadata": {},
   "outputs": [
    {
     "data": {
      "text/plain": [
       "'名詞'"
      ]
     },
     "execution_count": 6,
     "metadata": {},
     "output_type": "execute_result"
    }
   ],
   "source": [
    "doc[0].feature.pos1"
   ]
  },
  {
   "cell_type": "code",
   "execution_count": 7,
   "id": "2ffe613c",
   "metadata": {},
   "outputs": [
    {
     "name": "stdout",
     "output_type": "stream",
     "text": [
      "私 ワタクシ 代名詞 *\n",
      "は ハ 助詞 係助詞\n",
      "Shodo None 名詞 普通名詞\n",
      "を ヲ 助詞 格助詞\n",
      "作り ツクリ 動詞 一般\n",
      "ます マス 助動詞 *\n"
     ]
    }
   ],
   "source": [
    "for token in tagger(\"私はShodoを作ります\"):\n",
    "    print(token.surface, token.feature.kana, token.feature.pos1, token.feature.pos2)"
   ]
  },
  {
   "cell_type": "markdown",
   "id": "50872c13",
   "metadata": {},
   "source": [
    "## N-gram\n",
    "\n",
    "N-gramがどういうものか体験してみましょう。"
   ]
  },
  {
   "cell_type": "code",
   "execution_count": 8,
   "id": "ec12ac7a",
   "metadata": {},
   "outputs": [],
   "source": [
    "import itertools\n",
    "def ngrams(xs, n=2):\n",
    "    \"\"\" N-gramにしてくれる関数\n",
    "    \n",
    "    本来はnltkというライブラリーの実装（nltk.util.ngrams）を使います。\n",
    "    \"\"\"\n",
    "    ts = itertools.tee(xs, n)\n",
    "    for i, t in enumerate(ts[1:]):\n",
    "        for _ in range(i + 1):\n",
    "            next(t, None)\n",
    "    return zip(*ts)"
   ]
  },
  {
   "cell_type": "code",
   "execution_count": 9,
   "id": "24e86a19",
   "metadata": {},
   "outputs": [
    {
     "data": {
      "text/plain": [
       "[(0, 1), (1, 2), (2, 3), (3, 4)]"
      ]
     },
     "execution_count": 9,
     "metadata": {},
     "output_type": "execute_result"
    }
   ],
   "source": [
    "list(ngrams([0, 1, 2, 3, 4], n=2))"
   ]
  },
  {
   "cell_type": "code",
   "execution_count": 10,
   "id": "8426693d",
   "metadata": {},
   "outputs": [
    {
     "name": "stdout",
     "output_type": "stream",
     "text": [
      "これ は\n",
      "は 以外\n",
      "以外 な\n",
      "な 結果\n",
      "結果 でし\n",
      "でし た\n"
     ]
    }
   ],
   "source": [
    "for a, b in ngrams(tagger(\"これは以外な結果でした\")):\n",
    "    print(a.surface, b.surface)"
   ]
  },
  {
   "cell_type": "markdown",
   "id": "ebfcd6a7",
   "metadata": {},
   "source": [
    "## コーパス\n",
    "\n",
    "コーパスから学習に使う文章を表示してみます。\n",
    "\n",
    "(引用元︰Wikipedia Dowsloads https://dumps.wikimedia.org/ より CC BY-SA)"
   ]
  },
  {
   "cell_type": "code",
   "execution_count": 11,
   "id": "86b963ae",
   "metadata": {},
   "outputs": [
    {
     "name": "stdout",
     "output_type": "stream",
     "text": [
      "『ウンベルトD』(Umberto D.)は、1952年のイタリアの映画。\n",
      "監督はヴィットリオ・デ・シーカ。\n",
      "脚本はチェーザレ・ザバッティーニ。\n",
      "音楽はアレッサンドロ・チコニーニ。\n",
      "デ・シーカは、この作品を自身の父親に捧げた(父の名前は「ウンベルト」である)。出演している俳優のほとんどが素人である。\n",
      "主演のカルロ・バッティスティはフィレンツェ大学の言語学教授だった。\n",
      "わずかな年金の引き上げを求める高齢男性の街頭デモを警察が分散させる。\n",
      "\n"
     ]
    }
   ],
   "source": [
    "with open(\"./corpus.txt\") as f:\n",
    "    print(\"\".join(f.readlines(200)))"
   ]
  }
 ],
 "metadata": {
  "kernelspec": {
   "display_name": "Python 3 (ipykernel)",
   "language": "python",
   "name": "python3"
  },
  "language_info": {
   "codemirror_mode": {
    "name": "ipython",
    "version": 3
   },
   "file_extension": ".py",
   "mimetype": "text/x-python",
   "name": "python",
   "nbconvert_exporter": "python",
   "pygments_lexer": "ipython3",
   "version": "3.9.10"
  }
 },
 "nbformat": 4,
 "nbformat_minor": 5
}
